{
 "cells": [
  {
   "cell_type": "code",
   "execution_count": null,
   "metadata": {},
   "outputs": [],
   "source": []
  },
  {
   "cell_type": "markdown",
   "metadata": {},
   "source": [
    "재귀문:\n",
    "행렬의 거듭제곱을 사용하여 log_n의 시간복잡도를 구현"
   ]
  },
  {
   "cell_type": "code",
   "execution_count": null,
   "metadata": {},
   "outputs": [],
   "source": [
    "import numpy as np\n",
    "\n",
    "num = 10\n",
    "array = np.array([[1, 1], [1, 0]])\n",
    "\n",
    "if num == 1 or num == 2:\n",
    "    print(f\"[result] F({num}) = 1\")\n",
    "    exit()\n",
    "\n",
    "def pivo(array, count):\n",
    "    count = count * 2\n",
    "    squared = array @ array\n",
    "    print(f\"[pivo] count={count}\")\n",
    "    print(f\"[pivo] matrix:\\n{squared}\")\n",
    "    if count >= num - 2:\n",
    "        return squared, count\n",
    "    return pivo(squared, count)\n",
    "\n",
    "def rest(arr, array, count):\n",
    "    print(f\"[rest] additional multiply count={count}\")\n",
    "    for i in range(count):\n",
    "        array = arr @ array\n",
    "        print(f\"[rest] after {i+1} mul:\\n{array}\")\n",
    "    return array\n",
    "\n",
    "arr, cnt = pivo(array, 1)\n",
    "r_cnt = num - 1 - cnt\n",
    "print(f\"[main] r_cnt (rest multiply) = {r_cnt}\")\n",
    "arr2 = rest(array, arr, r_cnt)\n",
    "\n",
    "print(f\"[result] F({num}) = {int(arr2[0][0])}\")"
   ]
  }
 ],
 "metadata": {
  "language_info": {
   "name": "python"
  }
 },
 "nbformat": 4,
 "nbformat_minor": 2
}
