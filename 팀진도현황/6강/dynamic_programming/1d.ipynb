{
 "cells": [
  {
   "cell_type": "markdown",
   "metadata": {},
   "source": [
    "출처: 2강 문제2.py\n",
    "문제1. 그리디 알고리즘과 최적해의 조건\n",
    "다음 프로그램은 사용자로부터 금액과 동전 단위들을 입력받습니다. \n",
    "(입력 조건: 동전 단위는 1원을 포함하여 2개 이상의 단위들을 오름차순으로 입력받음)\n",
    "이때 그리디 알고리즘을 이용해 최소 동전 개수들로 n원을 만드는 방법은 다음과 같습니다.\n",
    "\n",
    "귀류법 증명:\n",
    "unitarray_k, uniarray_(k+1)에 대해 두 수가 배수관계가 아니라면 N*unitarray_k=uniarray_(k+1)로 변환하는 과정에서 \n",
    "uniarray_(k-1)이 새로 생긴다."
   ]
  },
  {
   "cell_type": "code",
   "execution_count": null,
   "metadata": {},
   "outputs": [],
   "source": [
    "#금액들의 배수관계가 존재하는 경우:\n",
    "total=int(input(\"금액을 입력하세요\"))\n",
    "unit=input(\"동전 단위들을 작은 금액부터 입력하세요. 예: (1,100,200,400)\")\n",
    "unitarray=list(map(int,unit.strip(\"()\").split(\",\")))\n",
    "count=0\n",
    "for i in range(len(unitarray)-1,-1,-1):\n",
    "        count=count+total//unitarray[i]\n",
    "        total=total%unitarray[i]\n",
    "print(count)"
   ]
  },
  {
   "cell_type": "code",
   "execution_count": null,
   "metadata": {},
   "outputs": [],
   "source": [
    "#동전들의 배수관계가 존재하지 않는 경우: dp 바텀업 사용\n",
    "#dp[k]: 금액 k까지 최적해\n",
    "\n",
    "total = int(input(\"금액을 입력하세요: \"))\n",
    "unit = input(\"동전 단위들을 작은 금액부터 입력하세요. 예: (1,100,200,400)\\n\")\n",
    "unitarray = list(map(int, unit.strip(\"()\").split(\",\")))\n",
    "\n",
    "dp = [float('inf')] * (total + 1)\n",
    "dp[0] = 0\n",
    "\n",
    "for i in range(1, total + 1):\n",
    "    for j in range(len(unitarray)):\n",
    "        if i >= unitarray[j]:\n",
    "            dp[i] = min(dp[i], dp[i - unitarray[j]] + 1)\n",
    "\n",
    "print(dp[total] if dp[total] != float('inf') else -1)"
   ]
  }
 ],
 "metadata": {
  "language_info": {
   "name": "python"
  }
 },
 "nbformat": 4,
 "nbformat_minor": 2
}
